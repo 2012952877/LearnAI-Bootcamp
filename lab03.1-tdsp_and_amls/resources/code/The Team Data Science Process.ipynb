{
 "cells": [
  {
   "cell_type": "markdown",
   "metadata": {},
   "source": [
    "# Data Science Projects and the Team Data Science Process (TDSP)\n",
    "\n",
    "## Environment Setup\n",
    "\n",
    "To begin, we'll get a few things set up. First, it's a good idea to think about the project layout. See the documentation here for more information on that: https://docs.microsoft.com/en-us/azure/machine-learning/team-data-science-process/project-execution \n",
    "\n",
    "Next, let's install a few things we'll need for this noteboook to run. Click \"File\" and then \"Open Comand Prompt\" at the top of Azure Machine Learning Workbench. That brings you to a command prompt in the Python enviroment where we'll run these experiments. \n",
    "\n",
    "At the command prompt, type the following: \n",
    "\n",
    "python -m pip install -U pip\n",
    "pip install ipywidgets==5.2.2\n",
    "pip install matplotlib\n",
    "pip install scikit-learn\n",
    "pip install pandas\n",
    "pip install requests\n",
    "pip install seaborn\n",
    "pip install io\n",
    "pip install os\n",
    "pip install json\n",
    "pip install pickle \n",
    "pip install statsmodels"
   ]
  },
  {
   "cell_type": "markdown",
   "metadata": {},
   "source": [
    "## Configure Visual Studio Team Services\n",
    "\n",
    "Now we're ready to configure a repository to store all our code, so that we can work within a team. \n",
    "\n",
    "Navigate to this page, and follow steps 1, 2 and 3a: https://docs.microsoft.com/en-us/azure/machine-learning/preview/using-git-ml-project "
   ]
  },
  {
   "cell_type": "code",
   "execution_count": null,
   "metadata": {
    "collapsed": true
   },
   "outputs": [],
   "source": [
    "# Use the Azure Machine Learning data collector to log various metrics\n",
    "from azureml.logging import get_azureml_logger\n",
    "logger = get_azureml_logger()"
   ]
  },
  {
   "cell_type": "code",
   "execution_count": null,
   "metadata": {
    "collapsed": true
   },
   "outputs": [],
   "source": [
    "# Use Azure Machine Learning history magic to control history collection\n",
    "# History is off by default, options are \"on\", \"off\", or \"show\"\n",
    "# %azureml history on"
   ]
  },
  {
   "cell_type": "markdown",
   "metadata": {},
   "source": [
    "## The Team Data Science Process - Business Understanding\n",
    "\n"
   ]
  },
  {
   "cell_type": "markdown",
   "metadata": {},
   "source": [
    "## The Team Data Science Process - Data Acquisition and Understanding\n",
    "\n"
   ]
  },
  {
   "cell_type": "markdown",
   "metadata": {},
   "source": [
    "## The Team Data Science Process - Modeling\n",
    "\n"
   ]
  },
  {
   "cell_type": "markdown",
   "metadata": {},
   "source": [
    "## The Team Data Science Process - Deployment\n",
    "\n"
   ]
  },
  {
   "cell_type": "markdown",
   "metadata": {},
   "source": [
    "## The Team Data Science Process - Customer Acceptance\n",
    "\n"
   ]
  }
 ],
 "metadata": {
  "celltoolbar": "Edit Metadata",
  "kernelspec": {
   "display_name": "bc31-run3 local",
   "language": "python",
   "name": "bc31-run3_local"
  },
  "language_info": {
   "codemirror_mode": {
    "name": "ipython",
    "version": 3
   },
   "file_extension": ".py",
   "mimetype": "text/x-python",
   "name": "python",
   "nbconvert_exporter": "python",
   "pygments_lexer": "ipython3",
   "version": "3.5.2"
  }
 },
 "nbformat": 4,
 "nbformat_minor": 2
}
